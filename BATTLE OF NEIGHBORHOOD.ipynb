{
 "cells": [
  {
   "cell_type": "markdown",
   "metadata": {
    "collapsed": true
   },
   "source": [
    "# Opening a New Shopping Mall in Lagos, Nigeria"
   ]
  },
  {
   "cell_type": "markdown",
   "metadata": {},
   "source": [
    "## Introduction\n",
    "\n",
    "For many shoppers, visiting shopping malls is a great way to relax and enjoy themselves during weekends and holidays. They can do grocery shopping, dine at restaurants, shop at the various fashion outlets, watch movies and perform many more activities. Shopping malls are like a one-stop destination for all types of shoppers. For retailers, the central location and the large crowd at the shopping malls provides a great distribution channel to market their products and services. Property developers are also taking advantage of this trend to build more shopping malls to cater to the demand. As a result, there are many shopping malls in the city of Lagos and many more are being built. Opening shopping malls allows property developers to earn consistent rental income. Of course, as with any business decision, opening a new shopping mall requires serious consideration and is a lot more complicated than it seems. Particularly, the location of the shopping mall is one of the most important decisions that will determine whether the mall will be a success or a failure.\n",
    "\n",
    "\n",
    "## Business Problem\n",
    "\n",
    "The objective of this capstone project is to analyse and select the best locations in the city of Lagos, Nigeria to open a new shopping mall. Using data science methodology and machine learning techniques like clustering, this project aims to provide solutions to answer the business question: In the city of Lagos, Nigeria, if a property developer is looking to open a new shopping mall, where would you recommend that they open it?\n",
    "\n",
    "\n",
    "## Target Audience of this project\n",
    "\n",
    "This project is particularly useful to property developers and investors looking to open or invest in new shopping malls in the most populous commercial state of the country i.e. Lagos. This project is timely as the city is currently suffering from oversupply of shopping malls. Data from the National Property Information Centre (NAPIC) released last year showed that an additional 15 per cent will be added to existing mall space, and the agency predicted that total occupancy may dip below 86 per cent. The local newspaper Daily Sun also reported in February 2019 that the true occupancy rates in malls may be as low as 45 per cent in some areas, quoting the article catalogue, \"the country's continued obsession with building more shopping space despite chronic oversupply.\""
   ]
  },
  {
   "cell_type": "markdown",
   "metadata": {},
   "source": [
    "## Data\n",
    "\n",
    "To solve the problem, we will need the following data:\n",
    "\n",
    "    • List of neighbourhoods in Lagos. This defines the scope of this project which is confined to the city of Lagos, the most populous commercial city in Nigeria.\n",
    "    • Latitude and longitude coordinates of those neighbourhoods. This is required in order to plot the map and also to get the venue data.\n",
    "    • Venue data, particularly data related to shopping malls. We will use this data to perform clustering on the neighbourhoods.\n",
    "\n",
    "\n",
    "## Sources of data and methods to extract them\n",
    "\n",
    "This page (https://www.expatarrivals.com/africa/nigeria/lagos/areas-and-suburbs-lagos) contains a list of neighbourhoods in Lagos. We will use web scraping techniques to extract the data from this page, with the help of Python requests and beautifulsoup packages. Then we will get the geographical coordinates of the neighbourhoods using Python Geocoder package which will give us the latitude and longitude coordinates of the neighbourhoods.\n",
    "After that, we will use Foursquare API to get the venue data for those neighbourhoods. Foursquare has one of the largest database of 105+ million places and is used by over 125,000 developers.\n",
    "Foursquare API will provide many categories of the venue data, we are particularly interested in the Shopping Mall category in order to help us to solve the business problem put forward. This is a project that will make use of many data science skills, from web scraping (Wikipedia), working with API (Foursquare), data cleaning, data wrangling, to machine learning (K-means clustering) and map visualization (Folium). In the next section, we will present the Methodology section where we will discuss the steps taken in this project, the data analysis that we did and the machine learning technique that was used."
   ]
  },
  {
   "cell_type": "code",
   "execution_count": null,
   "metadata": {},
   "outputs": [],
   "source": []
  }
 ],
 "metadata": {
  "kernelspec": {
   "display_name": "Python 3.6",
   "language": "python",
   "name": "python3"
  },
  "language_info": {
   "codemirror_mode": {
    "name": "ipython",
    "version": 3
   },
   "file_extension": ".py",
   "mimetype": "text/x-python",
   "name": "python",
   "nbconvert_exporter": "python",
   "pygments_lexer": "ipython3",
   "version": "3.6.9"
  }
 },
 "nbformat": 4,
 "nbformat_minor": 1
}
